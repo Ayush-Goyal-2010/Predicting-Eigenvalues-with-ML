{
 "cells": [
  {
   "cell_type": "code",
   "execution_count": 3,
   "id": "26194ce7",
   "metadata": {},
   "outputs": [
    {
     "name": "stdout",
     "output_type": "stream",
     "text": [
      "Saved 3000 5x5 matrices to train_5x5_eigen_data.csv.\n",
      "Saved 100 5x5 matrices to test_5x5_eigen_data.csv.\n"
     ]
    }
   ],
   "source": [
    "import numpy as np\n",
    "import pandas as pd\n",
    "\n",
    "def generate_5x5_matrix_data(n_samples, filename, value_range=(-10, 10), include_empty_pred=False, seed=0):\n",
    "    np.random.seed(seed)\n",
    "    data = []\n",
    "\n",
    "    while len(data) < n_samples:\n",
    "        entries = np.random.randint(value_range[0], value_range[1] + 1, size=25)\n",
    "        a, b, c, d, e, f, g, h, i, j, k, l, m, n, o, p, q, r, s, t, u, v, w, x, y = entries\n",
    "        matrix = np.array([\n",
    "            [a, b, c, d, e],\n",
    "            [f, g, h, i, j],\n",
    "            [k, l, m, n, o],\n",
    "            [p, q, r, s, t],\n",
    "            [u, v, w, x, y]\n",
    "        ])\n",
    "\n",
    "        eigenvalues = np.linalg.eigvals(matrix)\n",
    "\n",
    "        if np.all(np.isreal(eigenvalues)):\n",
    "            eigs = np.real(eigenvalues)\n",
    "            sum_sq = np.sum(eigs ** 2)\n",
    "            row = list(entries) + list(eigs) + [sum_sq]\n",
    "            if include_empty_pred:\n",
    "                row.append(\"\")\n",
    "            data.append(row)\n",
    "\n",
    "    entry_cols = list(\"abcdefghijklmnopqrstuvwxyz\")[:25]  \n",
    "    eig_cols = [f\"eig{i+1}\" for i in range(5)]\n",
    "    cols = entry_cols + eig_cols + ['sum_squared']\n",
    "    if include_empty_pred:\n",
    "        cols.append('predicted_sum_squared')\n",
    "\n",
    "    df = pd.DataFrame(data, columns=cols)\n",
    "    df.to_csv(filename, index=False)\n",
    "    print(f\"Saved {n_samples} 5x5 matrices to {filename}.\")\n",
    "\n",
    "\n",
    "generate_5x5_matrix_data(\n",
    "    n_samples=3000,\n",
    "    filename='train_5x5_eigen_data.csv',\n",
    "    value_range=(-10, 10),\n",
    "    include_empty_pred=False,\n",
    "    seed=42\n",
    ")\n",
    "\n",
    "generate_5x5_matrix_data(\n",
    "    n_samples=100,\n",
    "    filename='test_5x5_eigen_data.csv',\n",
    "    value_range=(-10, 10),\n",
    "    include_empty_pred=True,\n",
    "    seed=99\n",
    ")\n"
   ]
  }
 ],
 "metadata": {
  "kernelspec": {
   "display_name": "base",
   "language": "python",
   "name": "python3"
  },
  "language_info": {
   "codemirror_mode": {
    "name": "ipython",
    "version": 3
   },
   "file_extension": ".py",
   "mimetype": "text/x-python",
   "name": "python",
   "nbconvert_exporter": "python",
   "pygments_lexer": "ipython3",
   "version": "3.12.7"
  }
 },
 "nbformat": 4,
 "nbformat_minor": 5
}
