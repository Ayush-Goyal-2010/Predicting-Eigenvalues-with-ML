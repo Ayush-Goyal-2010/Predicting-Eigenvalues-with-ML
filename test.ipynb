{
 "cells": [
  {
   "cell_type": "code",
   "execution_count": null,
   "metadata": {},
   "outputs": [
    {
     "name": "stdout",
     "output_type": "stream",
     "text": [
      "Characteristic Polynomial:\n",
      "-λ**3 + 6*λ**2 - 11*λ + 6\n",
      "\n",
      "Eigenvalues:\n",
      "[1, 2, 3]\n",
      "\n",
      "Eigenvectors:\n",
      "Eigenvalue: 1\n",
      "Eigenvector(s):\n",
      "Matrix([[-1], [0], [1]])\n",
      "Eigenvalue: 2\n",
      "Eigenvector(s):\n",
      "Matrix([[2], [1], [0]])\n",
      "Eigenvalue: 3\n",
      "Eigenvector(s):\n",
      "Matrix([[1], [2], [1]])\n"
     ]
    }
   ],
   "source": [
    "import numpy as np\n",
    "import sympy as sp\n",
    "\n",
    "\n",
    "A = np.array([[2, 0, 1],\n",
    "              [-1, 4, -1],\n",
    "              [-1, 2, 0]])\n",
    "\n",
    "λ = sp.Symbol('λ')\n",
    "I = sp.eye(3)\n",
    "A_sym = sp.Matrix(A)\n",
    "char_matrix = A_sym - λ * I\n",
    "\n",
    "char_poly = char_matrix.det()\n",
    "print(\"Characteristic Polynomial:\")\n",
    "print(char_poly)\n",
    "\n",
    "eigenvalues = sp.solve(char_poly, λ)\n",
    "print(\"\\nEigenvalues:\")\n",
    "print(eigenvalues)\n",
    "\n",
    "print(\"\\nEigenvectors:\")\n",
    "for val in eigenvalues:\n",
    "    eig_matrix = A_sym - val * I\n",
    "    null_space = eig_matrix.nullspace()\n",
    "    print(f\"Eigenvalue: {val}\")\n",
    "    print(\"Eigenvector(s):\")\n",
    "    for vec in null_space:\n",
    "        print(sp.simplify(vec))\n"
   ]
  }
 ],
 "metadata": {
  "kernelspec": {
   "display_name": "base",
   "language": "python",
   "name": "python3"
  },
  "language_info": {
   "codemirror_mode": {
    "name": "ipython",
    "version": 3
   },
   "file_extension": ".py",
   "mimetype": "text/x-python",
   "name": "python",
   "nbconvert_exporter": "python",
   "pygments_lexer": "ipython3",
   "version": "3.12.7"
  }
 },
 "nbformat": 4,
 "nbformat_minor": 2
}
