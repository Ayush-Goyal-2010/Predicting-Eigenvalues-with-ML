{
 "cells": [
  {
   "cell_type": "code",
   "execution_count": 3,
   "id": "ffc3c1df",
   "metadata": {},
   "outputs": [
    {
     "name": "stdout",
     "output_type": "stream",
     "text": [
      "Saved 3000 matrices to train_eigen_data.csv.\n",
      "Saved 100 matrices to test_eigen_data.csv.\n"
     ]
    }
   ],
   "source": [
    "import numpy as np\n",
    "import pandas as pd\n",
    "\n",
    "def generate_matrix_data(n_samples, filename, value_range=(-10, 10), include_empty_pred=False, seed=0):\n",
    "    np.random.seed(seed)\n",
    "    data = []\n",
    "\n",
    "    while len(data) < n_samples:\n",
    "        a, b, c, d = np.random.randint(value_range[0], value_range[1] + 1, size=4)\n",
    "\n",
    "        matrix = np.array([[a, b], [c, d]])\n",
    "        eigenvalues = np.linalg.eigvals(matrix)\n",
    "\n",
    "        if np.all(np.isreal(eigenvalues)):\n",
    "            eig1, eig2 = np.real(eigenvalues)\n",
    "            sum_sq = eig1**2 + eig2**2\n",
    "            row = [a, b, c, d, eig1, eig2, sum_sq]\n",
    "            if include_empty_pred:\n",
    "                row.append(\"\")\n",
    "            data.append(row)\n",
    "\n",
    "    cols = ['a', 'b', 'c', 'd', 'eig1', 'eig2', 'sum_squared']\n",
    "    if include_empty_pred:\n",
    "        cols.append('predicted_sum_squared')\n",
    "\n",
    "    df = pd.DataFrame(data, columns=cols)\n",
    "    df.to_csv(filename, index=False)\n",
    "    print(f\"Saved {n_samples} matrices to {filename}.\")\n",
    "\n",
    "generate_matrix_data(\n",
    "    n_samples=3000,\n",
    "    filename='train_eigen_data.csv',\n",
    "    value_range=(-10, 10),\n",
    "    include_empty_pred=False,\n",
    "    seed=42\n",
    ")\n",
    "\n",
    "generate_matrix_data(\n",
    "    n_samples=100,\n",
    "    filename='test_eigen_data.csv',\n",
    "    value_range=(-10, 10),\n",
    "    include_empty_pred=True,\n",
    "    seed=99\n",
    ")\n"
   ]
  }
 ],
 "metadata": {
  "kernelspec": {
   "display_name": "base",
   "language": "python",
   "name": "python3"
  },
  "language_info": {
   "codemirror_mode": {
    "name": "ipython",
    "version": 3
   },
   "file_extension": ".py",
   "mimetype": "text/x-python",
   "name": "python",
   "nbconvert_exporter": "python",
   "pygments_lexer": "ipython3",
   "version": "3.12.7"
  }
 },
 "nbformat": 4,
 "nbformat_minor": 5
}
